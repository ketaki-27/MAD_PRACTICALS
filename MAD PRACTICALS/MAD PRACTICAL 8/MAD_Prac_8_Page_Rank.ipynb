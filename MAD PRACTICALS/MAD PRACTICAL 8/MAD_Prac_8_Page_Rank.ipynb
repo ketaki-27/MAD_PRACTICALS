{
  "nbformat": 4,
  "nbformat_minor": 0,
  "metadata": {
    "colab": {
      "provenance": []
    },
    "kernelspec": {
      "name": "python3",
      "display_name": "Python 3"
    },
    "language_info": {
      "name": "python"
    }
  },
  "cells": [
    {
      "cell_type": "markdown",
      "source": [
        "### **PRACTICAL 8 PAGE RANK Define a Web graph for the given web page table and perform the following: (i) assign them the outgoing-link number = (1 / number of hyperlinks.) to each page. (ii) Take the appropriate damping factor d, recursively compute the new page ranks. (iii) Take the threshold say 0.001, 0.005 to find the converged iteratively solution. (iv) Compute the final page ranks and display the high ranked pages on the top.**"
      ],
      "metadata": {
        "id": "z4PNF3rPOdqZ"
      }
    },
    {
      "cell_type": "markdown",
      "source": [
        "To implement the PageRank algorithm in Python, we need a way to represent the web graph, which is the network of web pages and links between them. One common way to do this is to use a dictionary, where the keys are the page names, and the values are lists of pages that link to them. For example, if we have four pages A, B, C, and D, and the links are: A -> B, C B -> A, D C -> A D -> B, C\n",
        "\n"
      ],
      "metadata": {
        "id": "t78RslseOu7J"
      }
    },
    {
      "cell_type": "code",
      "source": [
        "web_graph = {'A': ['B', 'C'],'B': ['A', 'D'], 'C': ['A'],'D': ['B', 'C']}"
      ],
      "metadata": {
        "id": "sTIqDRjnOxqy"
      },
      "execution_count": 1,
      "outputs": []
    },
    {
      "cell_type": "markdown",
      "source": [
        "To start the PageRank algorithm, we need to assign some initial values to each page. A simple way to do this is to assign a uniform value of 1 / n, where n is the number of pages in the web graph. For example, if we have four pages, we can initialize the PageRank values by 1/4 = 0.25."
      ],
      "metadata": {
        "id": "OncjFhf2O6kg"
      }
    },
    {
      "cell_type": "code",
      "source": [
        "page_rank = {'A': 0.25,'B': 0.25,'C': 0.25,'D': 0.25}"
      ],
      "metadata": {
        "id": "uhaQ3nx6Oxnz"
      },
      "execution_count": 2,
      "outputs": []
    },
    {
      "cell_type": "markdown",
      "source": [
        "PageRank is a way of assigning a numerical value to each web page, based on how many other pages link to it, and how important those pages are.\n",
        "The idea is that a page is more important if it is linked by many other pages, and especially by other important pages.\n",
        "The PageRank algorithm uses a recursive formula to calculate the PageRank of each page, based on the PageRank of the pages that link to it. The formula is: PR(A) = (1 - d) + d * (PR(B) / L(B) + PR(C) / L(C) + ... + PR(N) / L(N)) where PR(A) is the PageRank of page A, d is a damping factor (usually set to 0.85), L(B) is the number of outgoing-links from page B, and PR(B) / L(B) is the contribution of page B to the PageRank of page A. The formula is applied iteratively until the PageRank values converge to a stable state."
      ],
      "metadata": {
        "id": "bHXY29ENPA54"
      }
    },
    {
      "cell_type": "code",
      "source": [
        "d = 0.85 # damping factor\n",
        "new_page_rank = {} # variable to store the new values\n",
        "for page in web_graph: # loop over the web graph\n",
        "  sum = 0\n",
        "  # sum of contributions from other pages\n",
        "  for other_page in web_graph:\n",
        "    # loop over the other pages\n",
        "    if page in web_graph[other_page]:\n",
        "      # check if the other page links to the current page\n",
        "      sum += page_rank[other_page] / len(web_graph[other_page])\n",
        "      # add the contribution of the other page\n",
        "  new_page_rank[page] = (1 - d) + d * sum\n",
        "  # calculate the new PageRank value using the formula\n",
        "page_rank = new_page_rank\n",
        "# update the PageRank values"
      ],
      "metadata": {
        "id": "BytIFS5_O9YU"
      },
      "execution_count": 3,
      "outputs": []
    },
    {
      "cell_type": "markdown",
      "source": [
        "To update the PageRank values, we need to apply the formula for each page, using the current values of the other pages. We can use a loop to iterate over the web graph, and a variable to store the new values. We also need to use the damping factor, which is usually set to 0.85, to account for the possibility of random jumps from one page to another."
      ],
      "metadata": {
        "id": "fZw7WvrFPLbT"
      }
    },
    {
      "cell_type": "markdown",
      "source": [
        "To check if the PageRank values have converged to a stable state, we need to compare the old and new values, and see if they are close enough. We can use a threshold, which is a small number that indicates how much difference we can tolerate. For example, we can use a threshold of 0.001, and check for convergence."
      ],
      "metadata": {
        "id": "lMZHIZajPPdi"
      }
    },
    {
      "cell_type": "code",
      "source": [
        "threshold = 0.001\n",
        "# threshold for convergence\n",
        "converged = True\n",
        "# flag to indicate if the PageRank values have converged\n",
        "for page in page_rank:\n",
        "  # loop over the PageRank values\n",
        "  if abs(page_rank[page] - new_page_rank[page]) > threshold:\n",
        "    # check if the difference is larger than the threshold\n",
        "    converged = False\n",
        "    # set the flag to False\n",
        "    break\n",
        "    # exit the loop\n",
        "if converged:\n",
        "  # if the flag is True\n",
        "  print(\"The PageRank values are converged. Hence Iteration Process stopped\")\n",
        "  # print a message\n",
        "else:\n",
        "  # if the variable is False\n",
        "  print(\"The PageRank values are not converged yet\")\n",
        "  # print a message"
      ],
      "metadata": {
        "colab": {
          "base_uri": "https://localhost:8080/"
        },
        "id": "LXro0S2XPH3F",
        "outputId": "46ccb133-067d-4d40-f987-2196ca201871"
      },
      "execution_count": 4,
      "outputs": [
        {
          "output_type": "stream",
          "name": "stdout",
          "text": [
            "The PageRank values are converged. Hence Iteration Process stopped\n"
          ]
        }
      ]
    },
    {
      "cell_type": "markdown",
      "source": [
        "To rank the web pages, we need to sort them by their PageRank values, from highest to lowest. We can use a built-in function in Python, called sorted, which takes a list or a dictionary, and returns a sorted version of it. It returns a new sorted list from the items in iteratively in \"iterable\" It has two optional arguments which must be specified as keyword arguments(key, reverse). key specifies a function of one argument that is used to extract a comparison key from each element in iterable (for example, key=str.lower). The default value is None (compare the elements directly). reverse is a boolean value. If set to True, then the list elements are sorted in descending order. We can also use a lambda function, which is a short and anonymous function, to specify the sorting key, which is the PageRank value."
      ],
      "metadata": {
        "id": "5rlq36FjPXi6"
      }
    },
    {
      "cell_type": "code",
      "source": [
        "ranked_pages = sorted(page_rank.items(), key=lambda x: x[1], reverse=True)\n",
        "# sort the PageRank values by descending order\n",
        "print('Ranks for the Pages A,B,C,D are:')\n",
        "for page, rank in ranked_pages:\n",
        "  # loop over the sorted list\n",
        "  print(page, rank)\n",
        "  # print the page name and the PageRank value"
      ],
      "metadata": {
        "colab": {
          "base_uri": "https://localhost:8080/"
        },
        "id": "0fdqglbvPSx7",
        "outputId": "c953d785-bee3-410d-f0f7-0b98c54c946c"
      },
      "execution_count": 5,
      "outputs": [
        {
          "output_type": "stream",
          "name": "stdout",
          "text": [
            "Ranks for the Pages A,B,C,D are:\n",
            "A 0.46875\n",
            "B 0.36250000000000004\n",
            "C 0.36250000000000004\n",
            "D 0.25625000000000003\n"
          ]
        }
      ]
    },
    {
      "cell_type": "code",
      "source": [],
      "metadata": {
        "id": "Rp84Xk-qPdVw"
      },
      "execution_count": null,
      "outputs": []
    }
  ]
}