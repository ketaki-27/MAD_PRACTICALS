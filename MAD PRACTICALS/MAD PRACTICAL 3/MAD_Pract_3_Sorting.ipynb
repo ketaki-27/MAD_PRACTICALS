{
  "nbformat": 4,
  "nbformat_minor": 0,
  "metadata": {
    "colab": {
      "provenance": []
    },
    "kernelspec": {
      "name": "python3",
      "display_name": "Python 3"
    },
    "language_info": {
      "name": "python"
    }
  },
  "cells": [
    {
      "cell_type": "code",
      "execution_count": 1,
      "metadata": {
        "id": "bgMZO5nSnFjd"
      },
      "outputs": [],
      "source": [
        "# PRACTICAL - 3.1 : INSERTION SORTING\n",
        "def insertion_sort(A):\n",
        "  # since A[] index will start from 0\n",
        "  count_for = 0\n",
        "  count_while = 0\n",
        "  for i in range(1,len(A)):\n",
        "    key=A[i]\n",
        "    j=i-1\n",
        "    count_for=count_for+1\n",
        "    print('count_for',count_for)\n",
        "    while (j>=0) and (A[j]>key):\n",
        "      A[j+1]=A[j]\n",
        "      j=j-1\n",
        "      count_while=count_while+1\n",
        "      print('count_while',count_while)\n",
        "    A[j+1] = key"
      ]
    },
    {
      "cell_type": "code",
      "source": [
        "A=[15, 9, 30,10,1]\n",
        "print('Original Array',A)\n",
        "insertion_sort(A)\n",
        "print('Sorted Array :',A)\n"
      ],
      "metadata": {
        "colab": {
          "base_uri": "https://localhost:8080/"
        },
        "id": "yYaYoegMnJ-C",
        "outputId": "0a8fbe5c-a512-4f9d-b6c6-47cfb5da7f8f"
      },
      "execution_count": 2,
      "outputs": [
        {
          "output_type": "stream",
          "name": "stdout",
          "text": [
            "Original Array [15, 9, 30, 10, 1]\n",
            "count_for 1\n",
            "count_while 1\n",
            "count_for 2\n",
            "count_for 3\n",
            "count_while 2\n",
            "count_while 3\n",
            "count_for 4\n",
            "count_while 4\n",
            "count_while 5\n",
            "count_while 6\n",
            "count_while 7\n",
            "Sorted Array : [1, 9, 10, 15, 30]\n"
          ]
        }
      ]
    },
    {
      "cell_type": "markdown",
      "source": [
        "## **Insertion Sorting in the worst case , average case and best case.**"
      ],
      "metadata": {
        "id": "zL-741l-ovqI"
      }
    },
    {
      "cell_type": "code",
      "source": [
        "# Best Case\n",
        "print(\"Best Case of Insertion Sort\")\n",
        "B=[1 ,2, 3, 4, 5, 6, 7]\n",
        "print('Original Array :',B)\n",
        "insertion_sort(B)\n",
        "print('Sorted Array :',B)"
      ],
      "metadata": {
        "colab": {
          "base_uri": "https://localhost:8080/"
        },
        "id": "8Bv6BKg_oq6M",
        "outputId": "c55eb0a6-8b73-4611-f490-e01895eb06a7"
      },
      "execution_count": 3,
      "outputs": [
        {
          "output_type": "stream",
          "name": "stdout",
          "text": [
            "Best Case of Insertion Sort\n",
            "Original Array : [1, 2, 3, 4, 5, 6, 7]\n",
            "count_for 1\n",
            "count_for 2\n",
            "count_for 3\n",
            "count_for 4\n",
            "count_for 5\n",
            "count_for 6\n",
            "Sorted Array : [1, 2, 3, 4, 5, 6, 7]\n"
          ]
        }
      ]
    },
    {
      "cell_type": "code",
      "source": [
        "# Worst Case\n",
        "print(\"Worst Case of Insertion Sort\")\n",
        "C = [100,90,80,70,60,50,40,30,20,10]\n",
        "print('Original Array :',C)\n",
        "insertion_sort(C)\n",
        "print('Sorted Array :',C)"
      ],
      "metadata": {
        "colab": {
          "base_uri": "https://localhost:8080/"
        },
        "id": "baZvtA7Roq3H",
        "outputId": "390346aa-cfc1-4b91-cc8d-558c1d6dc582"
      },
      "execution_count": 4,
      "outputs": [
        {
          "output_type": "stream",
          "name": "stdout",
          "text": [
            "Worst Case of Insertion Sort\n",
            "Original Array : [100, 90, 80, 70, 60, 50, 40, 30, 20, 10]\n",
            "count_for 1\n",
            "count_while 1\n",
            "count_for 2\n",
            "count_while 2\n",
            "count_while 3\n",
            "count_for 3\n",
            "count_while 4\n",
            "count_while 5\n",
            "count_while 6\n",
            "count_for 4\n",
            "count_while 7\n",
            "count_while 8\n",
            "count_while 9\n",
            "count_while 10\n",
            "count_for 5\n",
            "count_while 11\n",
            "count_while 12\n",
            "count_while 13\n",
            "count_while 14\n",
            "count_while 15\n",
            "count_for 6\n",
            "count_while 16\n",
            "count_while 17\n",
            "count_while 18\n",
            "count_while 19\n",
            "count_while 20\n",
            "count_while 21\n",
            "count_for 7\n",
            "count_while 22\n",
            "count_while 23\n",
            "count_while 24\n",
            "count_while 25\n",
            "count_while 26\n",
            "count_while 27\n",
            "count_while 28\n",
            "count_for 8\n",
            "count_while 29\n",
            "count_while 30\n",
            "count_while 31\n",
            "count_while 32\n",
            "count_while 33\n",
            "count_while 34\n",
            "count_while 35\n",
            "count_while 36\n",
            "count_for 9\n",
            "count_while 37\n",
            "count_while 38\n",
            "count_while 39\n",
            "count_while 40\n",
            "count_while 41\n",
            "count_while 42\n",
            "count_while 43\n",
            "count_while 44\n",
            "count_while 45\n",
            "Sorted Array : [10, 20, 30, 40, 50, 60, 70, 80, 90, 100]\n"
          ]
        }
      ]
    },
    {
      "cell_type": "code",
      "source": [
        "# Average Case\n",
        "print(\"Average Case of Insertion Sort\")\n",
        "D = [10, 8, 7, 6, 12, 15, 20, 30]\n",
        "print('Original Array :',D)\n",
        "insertion_sort(D)\n",
        "print('Sorted Array :',D)"
      ],
      "metadata": {
        "colab": {
          "base_uri": "https://localhost:8080/"
        },
        "id": "Mj8C1yyxoq05",
        "outputId": "09d0cbbb-baf2-4bcf-bc07-eaeb50ab202e"
      },
      "execution_count": 5,
      "outputs": [
        {
          "output_type": "stream",
          "name": "stdout",
          "text": [
            "Average Case of Insertion Sort\n",
            "Original Array : [10, 8, 7, 6, 12, 15, 20, 30]\n",
            "count_for 1\n",
            "count_while 1\n",
            "count_for 2\n",
            "count_while 2\n",
            "count_while 3\n",
            "count_for 3\n",
            "count_while 4\n",
            "count_while 5\n",
            "count_while 6\n",
            "count_for 4\n",
            "count_for 5\n",
            "count_for 6\n",
            "count_for 7\n",
            "Sorted Array : [6, 7, 8, 10, 12, 15, 20, 30]\n"
          ]
        }
      ]
    },
    {
      "cell_type": "code",
      "source": [
        "# PRACTICAL - 3.2 : SELECTION SORT\n",
        "def selection_sort(array):\n",
        "  temp=0\n",
        "  count_for_i=0\n",
        "  count_for_j=0\n",
        "  for i in range(0,len(array)-1):\n",
        "    count_for_i=count_for_i +1\n",
        "    print('count_for_i :',count_for_i)\n",
        "    min = i # set current element as minimum\n",
        "    print('min :',min, ' and array[min] :',array[min])\n",
        "    for j in range(i+1,len(array)):\n",
        "      count_for_j = count_for_j + 1\n",
        "      print('count_for_j :',count_for_j)\n",
        "      #check the element to be minimum   ……………………… n – i\n",
        "      if array[j] < array[min]:\n",
        "        min = j\n",
        "        print('min :',min, ' and array[min] :',array[min])\n",
        "    if (min!=i):\n",
        "      temp=array[min]\n",
        "      array[min]=array[i]\n",
        "      array[i]=temp"
      ],
      "metadata": {
        "id": "ZoQlEcrjoqyI"
      },
      "execution_count": 6,
      "outputs": []
    },
    {
      "cell_type": "code",
      "source": [
        "array=[15, 30, 25, 10, 35, 20, 45, 40]\n",
        "print('Orginal Array :',array)\n",
        "selection_sort(array)\n",
        "print('Sorted Array :',array)"
      ],
      "metadata": {
        "colab": {
          "base_uri": "https://localhost:8080/"
        },
        "id": "0QJCzHV5oqt2",
        "outputId": "5dd23dc3-ac63-45e9-c369-70076760a627"
      },
      "execution_count": 7,
      "outputs": [
        {
          "output_type": "stream",
          "name": "stdout",
          "text": [
            "Orginal Array : [15, 30, 25, 10, 35, 20, 45, 40]\n",
            "count_for_i : 1\n",
            "min : 0  and array[min] : 15\n",
            "count_for_j : 1\n",
            "count_for_j : 2\n",
            "count_for_j : 3\n",
            "min : 3  and array[min] : 10\n",
            "count_for_j : 4\n",
            "count_for_j : 5\n",
            "count_for_j : 6\n",
            "count_for_j : 7\n",
            "count_for_i : 2\n",
            "min : 1  and array[min] : 30\n",
            "count_for_j : 8\n",
            "min : 2  and array[min] : 25\n",
            "count_for_j : 9\n",
            "min : 3  and array[min] : 15\n",
            "count_for_j : 10\n",
            "count_for_j : 11\n",
            "count_for_j : 12\n",
            "count_for_j : 13\n",
            "count_for_i : 3\n",
            "min : 2  and array[min] : 25\n",
            "count_for_j : 14\n",
            "count_for_j : 15\n",
            "count_for_j : 16\n",
            "min : 5  and array[min] : 20\n",
            "count_for_j : 17\n",
            "count_for_j : 18\n",
            "count_for_i : 4\n",
            "min : 3  and array[min] : 30\n",
            "count_for_j : 19\n",
            "count_for_j : 20\n",
            "min : 5  and array[min] : 25\n",
            "count_for_j : 21\n",
            "count_for_j : 22\n",
            "count_for_i : 5\n",
            "min : 4  and array[min] : 35\n",
            "count_for_j : 23\n",
            "min : 5  and array[min] : 30\n",
            "count_for_j : 24\n",
            "count_for_j : 25\n",
            "count_for_i : 6\n",
            "min : 5  and array[min] : 35\n",
            "count_for_j : 26\n",
            "count_for_j : 27\n",
            "count_for_i : 7\n",
            "min : 6  and array[min] : 45\n",
            "count_for_j : 28\n",
            "min : 7  and array[min] : 40\n",
            "Sorted Array : [10, 15, 20, 25, 30, 35, 40, 45]\n"
          ]
        }
      ]
    },
    {
      "cell_type": "markdown",
      "source": [
        "## **Selection Sort- Worst case , Best case and Average Case**"
      ],
      "metadata": {
        "id": "S5AlUu_Qp9uW"
      }
    },
    {
      "cell_type": "code",
      "source": [
        "# Best Case\n",
        "print(\"Best Case of Selection Sort:\")\n",
        "best=[1,2,3,4,5,6,7,8]\n",
        "print('Orginal Arrary :',best)\n",
        "selection_sort(best)\n",
        "print('Sorted Arrary :',best)"
      ],
      "metadata": {
        "colab": {
          "base_uri": "https://localhost:8080/"
        },
        "id": "Dik1C_5yoqnu",
        "outputId": "a76dfde8-2b41-49ef-cde1-e4dd5d0cd9cf"
      },
      "execution_count": 8,
      "outputs": [
        {
          "output_type": "stream",
          "name": "stdout",
          "text": [
            "Best Case of Selection Sort:\n",
            "Orginal Arrary : [1, 2, 3, 4, 5, 6, 7, 8]\n",
            "count_for_i : 1\n",
            "min : 0  and array[min] : 1\n",
            "count_for_j : 1\n",
            "count_for_j : 2\n",
            "count_for_j : 3\n",
            "count_for_j : 4\n",
            "count_for_j : 5\n",
            "count_for_j : 6\n",
            "count_for_j : 7\n",
            "count_for_i : 2\n",
            "min : 1  and array[min] : 2\n",
            "count_for_j : 8\n",
            "count_for_j : 9\n",
            "count_for_j : 10\n",
            "count_for_j : 11\n",
            "count_for_j : 12\n",
            "count_for_j : 13\n",
            "count_for_i : 3\n",
            "min : 2  and array[min] : 3\n",
            "count_for_j : 14\n",
            "count_for_j : 15\n",
            "count_for_j : 16\n",
            "count_for_j : 17\n",
            "count_for_j : 18\n",
            "count_for_i : 4\n",
            "min : 3  and array[min] : 4\n",
            "count_for_j : 19\n",
            "count_for_j : 20\n",
            "count_for_j : 21\n",
            "count_for_j : 22\n",
            "count_for_i : 5\n",
            "min : 4  and array[min] : 5\n",
            "count_for_j : 23\n",
            "count_for_j : 24\n",
            "count_for_j : 25\n",
            "count_for_i : 6\n",
            "min : 5  and array[min] : 6\n",
            "count_for_j : 26\n",
            "count_for_j : 27\n",
            "count_for_i : 7\n",
            "min : 6  and array[min] : 7\n",
            "count_for_j : 28\n",
            "Sorted Arrary : [1, 2, 3, 4, 5, 6, 7, 8]\n"
          ]
        }
      ]
    },
    {
      "cell_type": "code",
      "source": [
        "# Average Case\n",
        "print(\"Average Case of Selection Sort:\")\n",
        "average=[10,5,12,2,8,20,1]\n",
        "print('Orginal Arrary :',average)\n",
        "selection_sort(best)\n",
        "print('Sorted Arrary :',average)"
      ],
      "metadata": {
        "colab": {
          "base_uri": "https://localhost:8080/"
        },
        "id": "_qyFkiucoqh4",
        "outputId": "12579a7e-8f20-4f24-e09b-53f6407d7ac1"
      },
      "execution_count": 9,
      "outputs": [
        {
          "output_type": "stream",
          "name": "stdout",
          "text": [
            "Average Case of Selection Sort:\n",
            "Orginal Arrary : [10, 5, 12, 2, 8, 20, 1]\n",
            "count_for_i : 1\n",
            "min : 0  and array[min] : 1\n",
            "count_for_j : 1\n",
            "count_for_j : 2\n",
            "count_for_j : 3\n",
            "count_for_j : 4\n",
            "count_for_j : 5\n",
            "count_for_j : 6\n",
            "count_for_j : 7\n",
            "count_for_i : 2\n",
            "min : 1  and array[min] : 2\n",
            "count_for_j : 8\n",
            "count_for_j : 9\n",
            "count_for_j : 10\n",
            "count_for_j : 11\n",
            "count_for_j : 12\n",
            "count_for_j : 13\n",
            "count_for_i : 3\n",
            "min : 2  and array[min] : 3\n",
            "count_for_j : 14\n",
            "count_for_j : 15\n",
            "count_for_j : 16\n",
            "count_for_j : 17\n",
            "count_for_j : 18\n",
            "count_for_i : 4\n",
            "min : 3  and array[min] : 4\n",
            "count_for_j : 19\n",
            "count_for_j : 20\n",
            "count_for_j : 21\n",
            "count_for_j : 22\n",
            "count_for_i : 5\n",
            "min : 4  and array[min] : 5\n",
            "count_for_j : 23\n",
            "count_for_j : 24\n",
            "count_for_j : 25\n",
            "count_for_i : 6\n",
            "min : 5  and array[min] : 6\n",
            "count_for_j : 26\n",
            "count_for_j : 27\n",
            "count_for_i : 7\n",
            "min : 6  and array[min] : 7\n",
            "count_for_j : 28\n",
            "Sorted Arrary : [10, 5, 12, 2, 8, 20, 1]\n"
          ]
        }
      ]
    },
    {
      "cell_type": "code",
      "source": [
        "# Worst Case\n",
        "print(\"Worst Case of Selection Sort:\")\n",
        "worst=[5,4,3,2,1]\n",
        "print('Orginal Arrary :',worst)\n",
        "selection_sort(best)\n",
        "print('Sorted Arrary :',worst)"
      ],
      "metadata": {
        "colab": {
          "base_uri": "https://localhost:8080/"
        },
        "id": "D9gLp36Voqed",
        "outputId": "174a5ce6-f7df-4a39-ece9-a4620bf40cfa"
      },
      "execution_count": 10,
      "outputs": [
        {
          "output_type": "stream",
          "name": "stdout",
          "text": [
            "Worst Case of Selection Sort:\n",
            "Orginal Arrary : [5, 4, 3, 2, 1]\n",
            "count_for_i : 1\n",
            "min : 0  and array[min] : 1\n",
            "count_for_j : 1\n",
            "count_for_j : 2\n",
            "count_for_j : 3\n",
            "count_for_j : 4\n",
            "count_for_j : 5\n",
            "count_for_j : 6\n",
            "count_for_j : 7\n",
            "count_for_i : 2\n",
            "min : 1  and array[min] : 2\n",
            "count_for_j : 8\n",
            "count_for_j : 9\n",
            "count_for_j : 10\n",
            "count_for_j : 11\n",
            "count_for_j : 12\n",
            "count_for_j : 13\n",
            "count_for_i : 3\n",
            "min : 2  and array[min] : 3\n",
            "count_for_j : 14\n",
            "count_for_j : 15\n",
            "count_for_j : 16\n",
            "count_for_j : 17\n",
            "count_for_j : 18\n",
            "count_for_i : 4\n",
            "min : 3  and array[min] : 4\n",
            "count_for_j : 19\n",
            "count_for_j : 20\n",
            "count_for_j : 21\n",
            "count_for_j : 22\n",
            "count_for_i : 5\n",
            "min : 4  and array[min] : 5\n",
            "count_for_j : 23\n",
            "count_for_j : 24\n",
            "count_for_j : 25\n",
            "count_for_i : 6\n",
            "min : 5  and array[min] : 6\n",
            "count_for_j : 26\n",
            "count_for_j : 27\n",
            "count_for_i : 7\n",
            "min : 6  and array[min] : 7\n",
            "count_for_j : 28\n",
            "Sorted Arrary : [5, 4, 3, 2, 1]\n"
          ]
        }
      ]
    },
    {
      "cell_type": "code",
      "source": [
        "# PRACTICAL - 3.3 MERGE SORT\n",
        "def merge_sort(arr):\n",
        "    if len(arr) > 1:\n",
        "        # Calculate the middle of the array\n",
        "        mid = len(arr) // 2\n",
        "        print('mid :',mid)\n",
        "        left = arr[:mid]  # Divide the array into two halves\n",
        "        right = arr[mid:]\n",
        "        print('left arr :',left)\n",
        "        print('right arr :',right)\n",
        "        merge_sort(left)  # Recursively sort the left half\n",
        "        merge_sort(right)  # Recursively sort the right half\n",
        "        i = j = k = 0\n",
        "        # Merge the two halves sorted in step 2 and 3\n",
        "        while i < len(left) and j < len(right):\n",
        "            if left[i] < right[j]:\n",
        "                arr[k] = left[i]\n",
        "                i=i+1\n",
        "            else:\n",
        "                arr[k] = right[j]\n",
        "                j=j+1\n",
        "            k=k+1\n",
        "        # Check if any elements were left\n",
        "        while i < len(left):\n",
        "            arr[k] = left[i]\n",
        "            i=i+1\n",
        "            k=k+1\n",
        "        while j < len(right):\n",
        "            arr[k] = right[j]\n",
        "            j=j+1\n",
        "            k=k+1\n",
        "    return arr"
      ],
      "metadata": {
        "id": "6gyy9BiRoZ76"
      },
      "execution_count": 11,
      "outputs": []
    },
    {
      "cell_type": "code",
      "source": [
        "# Take array with even number of elements\n",
        "arr = [12, 11, 13, 5, 6, 7]\n",
        "print('Original array:', arr)\n",
        "print('length of array: ',len(arr))\n",
        "sorted_array = merge_sort(arr)\n",
        "print('Sorted array:',sorted_array)"
      ],
      "metadata": {
        "colab": {
          "base_uri": "https://localhost:8080/"
        },
        "id": "uB28n5vrrgxp",
        "outputId": "be50c966-7d03-4a89-85dd-4dccf0b95f6b"
      },
      "execution_count": 12,
      "outputs": [
        {
          "output_type": "stream",
          "name": "stdout",
          "text": [
            "Original array: [12, 11, 13, 5, 6, 7]\n",
            "length of array:  6\n",
            "mid : 3\n",
            "left arr : [12, 11, 13]\n",
            "right arr : [5, 6, 7]\n",
            "mid : 1\n",
            "left arr : [12]\n",
            "right arr : [11, 13]\n",
            "mid : 1\n",
            "left arr : [11]\n",
            "right arr : [13]\n",
            "mid : 1\n",
            "left arr : [5]\n",
            "right arr : [6, 7]\n",
            "mid : 1\n",
            "left arr : [6]\n",
            "right arr : [7]\n",
            "Sorted array: [5, 6, 7, 11, 12, 13]\n"
          ]
        }
      ]
    },
    {
      "cell_type": "code",
      "source": [
        "# Take array with odd number of elements\n",
        "arr = [12, 11, 13, 5, 6]\n",
        "print('Original array:', arr)\n",
        "print('length of array: ',len(arr))\n",
        "sorted_array = merge_sort(arr)\n",
        "print('Sorted array:',sorted_array)"
      ],
      "metadata": {
        "colab": {
          "base_uri": "https://localhost:8080/"
        },
        "id": "1uauvjF8roLH",
        "outputId": "21d54b95-2953-45e8-98e7-808e9add7e81"
      },
      "execution_count": 13,
      "outputs": [
        {
          "output_type": "stream",
          "name": "stdout",
          "text": [
            "Original array: [12, 11, 13, 5, 6]\n",
            "length of array:  5\n",
            "mid : 2\n",
            "left arr : [12, 11]\n",
            "right arr : [13, 5, 6]\n",
            "mid : 1\n",
            "left arr : [12]\n",
            "right arr : [11]\n",
            "mid : 1\n",
            "left arr : [13]\n",
            "right arr : [5, 6]\n",
            "mid : 1\n",
            "left arr : [5]\n",
            "right arr : [6]\n",
            "Sorted array: [5, 6, 11, 12, 13]\n"
          ]
        }
      ]
    },
    {
      "cell_type": "markdown",
      "source": [
        "## **Merge Sort - Worst Case , Best Case and Average Case**"
      ],
      "metadata": {
        "id": "fQXlj1xxrv97"
      }
    },
    {
      "cell_type": "code",
      "source": [
        "# Best Case\n",
        "print(\"Best Case of Merge Sort :\")\n",
        "best = [1, 2, 3, 5, 6, 7]\n",
        "print('Original array:', best)\n",
        "print('length of array: ',len(best))\n",
        "sorted_best = merge_sort(best)\n",
        "print('Sorted array:',sorted_best)"
      ],
      "metadata": {
        "colab": {
          "base_uri": "https://localhost:8080/"
        },
        "id": "KvH3flgprsYX",
        "outputId": "c870c409-307b-4598-d004-6c13057fb78b"
      },
      "execution_count": 14,
      "outputs": [
        {
          "output_type": "stream",
          "name": "stdout",
          "text": [
            "Best Case of Merge Sort :\n",
            "Original array: [1, 2, 3, 5, 6, 7]\n",
            "length of array:  6\n",
            "mid : 3\n",
            "left arr : [1, 2, 3]\n",
            "right arr : [5, 6, 7]\n",
            "mid : 1\n",
            "left arr : [1]\n",
            "right arr : [2, 3]\n",
            "mid : 1\n",
            "left arr : [2]\n",
            "right arr : [3]\n",
            "mid : 1\n",
            "left arr : [5]\n",
            "right arr : [6, 7]\n",
            "mid : 1\n",
            "left arr : [6]\n",
            "right arr : [7]\n",
            "Sorted array: [1, 2, 3, 5, 6, 7]\n"
          ]
        }
      ]
    },
    {
      "cell_type": "code",
      "source": [
        "# Average Case\n",
        "print(\"Average Case of Merge sort :\")\n",
        "average = [50, 40, 30, 20, 2, 6, 8, 13, 17]\n",
        "print('Original array:', average)\n",
        "print('length of array: ',len(average))\n",
        "sorted_average = merge_sort(average)\n",
        "print('Sorted array:',sorted_average)"
      ],
      "metadata": {
        "colab": {
          "base_uri": "https://localhost:8080/"
        },
        "id": "zghm5sXPr_sj",
        "outputId": "7d567bf4-ada5-4ade-cca3-697dabb4d184"
      },
      "execution_count": 15,
      "outputs": [
        {
          "output_type": "stream",
          "name": "stdout",
          "text": [
            "Average Case of Merge sort :\n",
            "Original array: [50, 40, 30, 20, 2, 6, 8, 13, 17]\n",
            "length of array:  9\n",
            "mid : 4\n",
            "left arr : [50, 40, 30, 20]\n",
            "right arr : [2, 6, 8, 13, 17]\n",
            "mid : 2\n",
            "left arr : [50, 40]\n",
            "right arr : [30, 20]\n",
            "mid : 1\n",
            "left arr : [50]\n",
            "right arr : [40]\n",
            "mid : 1\n",
            "left arr : [30]\n",
            "right arr : [20]\n",
            "mid : 2\n",
            "left arr : [2, 6]\n",
            "right arr : [8, 13, 17]\n",
            "mid : 1\n",
            "left arr : [2]\n",
            "right arr : [6]\n",
            "mid : 1\n",
            "left arr : [8]\n",
            "right arr : [13, 17]\n",
            "mid : 1\n",
            "left arr : [13]\n",
            "right arr : [17]\n",
            "Sorted array: [2, 6, 8, 13, 17, 20, 30, 40, 50]\n"
          ]
        }
      ]
    },
    {
      "cell_type": "code",
      "source": [
        "# Worst Case\n",
        "print(\"Worst Case of Merge Sort :\")\n",
        "worst = [12, 3, 11, 5, 13, 6, 20]\n",
        "print('Original array:', worst)\n",
        "print('length of array: ',len(worst))\n",
        "sorted_worst = merge_sort(worst)\n",
        "print('Sorted array:',sorted_worst)"
      ],
      "metadata": {
        "colab": {
          "base_uri": "https://localhost:8080/"
        },
        "id": "YwEAtGzKyprI",
        "outputId": "4cffebf3-0595-4aa6-afd0-51f3bc0cc1af"
      },
      "execution_count": 16,
      "outputs": [
        {
          "output_type": "stream",
          "name": "stdout",
          "text": [
            "Worst Case of Merge Sort :\n",
            "Original array: [12, 3, 11, 5, 13, 6, 20]\n",
            "length of array:  7\n",
            "mid : 3\n",
            "left arr : [12, 3, 11]\n",
            "right arr : [5, 13, 6, 20]\n",
            "mid : 1\n",
            "left arr : [12]\n",
            "right arr : [3, 11]\n",
            "mid : 1\n",
            "left arr : [3]\n",
            "right arr : [11]\n",
            "mid : 2\n",
            "left arr : [5, 13]\n",
            "right arr : [6, 20]\n",
            "mid : 1\n",
            "left arr : [5]\n",
            "right arr : [13]\n",
            "mid : 1\n",
            "left arr : [6]\n",
            "right arr : [20]\n",
            "Sorted array: [3, 5, 6, 11, 12, 13, 20]\n"
          ]
        }
      ]
    },
    {
      "cell_type": "code",
      "source": [
        "# PRACTICAL - 3.4 HEAP SORT\n",
        "def heapify(arr, n, i):\n",
        "    largest = i  # Initialize largest as root\n",
        "    L = 2 * i + 1     # left = 2*i + 1\n",
        "    R = 2 * i + 2     # right = 2*i + 2\n",
        "    # See if left child of root exists and is greater than root\n",
        "    if L < n and arr[largest] < arr[L]:\n",
        "        largest = L\n",
        "    # See if right child of root exists and is greater than root\n",
        "    if R < n and arr[largest] < arr[R]:\n",
        "        largest = R\n",
        "    # Change root, if needed\n",
        "    if largest != i:\n",
        "        arr[i], arr[largest] = arr[largest], arr[i]  # swap\n",
        "        # Heapify the root.\n",
        "        heapify(arr, n, largest)"
      ],
      "metadata": {
        "id": "96A6w9Q0yu1y"
      },
      "execution_count": 17,
      "outputs": []
    },
    {
      "cell_type": "code",
      "source": [
        "def heap_sort(arr):\n",
        "  n = len(arr)\n",
        "  # Build a maxheap.\n",
        "  for i in range(n//2 - 1, -1, -1):\n",
        "    heapify(arr, n, i)\n",
        "  # One by one extract elements\n",
        "  for i in range(n-1, 0, -1):\n",
        "    arr[i], arr[0] = arr[0], arr[i]  # swap\n",
        "    heapify(arr, i, 0)"
      ],
      "metadata": {
        "id": "cgxaGpQQyy7S"
      },
      "execution_count": 18,
      "outputs": []
    },
    {
      "cell_type": "code",
      "source": [
        "# Test Code for Heap Sort\n",
        "arr=[10, 2 , 3, 12, 11, 23, 34, 8,]\n",
        "print(\"Original Array :\",arr)\n",
        "# Function call\n",
        "heap_sort(arr)\n",
        "n = len(arr)\n",
        "print(\"Sorted array is\",arr)"
      ],
      "metadata": {
        "colab": {
          "base_uri": "https://localhost:8080/"
        },
        "id": "ubSK-6GqyyuL",
        "outputId": "be60ed4e-2105-4234-c3d2-2453307e2591"
      },
      "execution_count": 19,
      "outputs": [
        {
          "output_type": "stream",
          "name": "stdout",
          "text": [
            "Original Array : [10, 2, 3, 12, 11, 23, 34, 8]\n",
            "Sorted array is [2, 3, 8, 10, 11, 12, 23, 34]\n"
          ]
        }
      ]
    }
  ]
}