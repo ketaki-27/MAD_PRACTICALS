{
  "nbformat": 4,
  "nbformat_minor": 0,
  "metadata": {
    "colab": {
      "provenance": []
    },
    "kernelspec": {
      "name": "python3",
      "display_name": "Python 3"
    },
    "language_info": {
      "name": "python"
    }
  },
  "cells": [
    {
      "cell_type": "code",
      "execution_count": 1,
      "metadata": {
        "colab": {
          "base_uri": "https://localhost:8080/"
        },
        "id": "XIMDg8h3ZAOm",
        "outputId": "2c18f3ab-6348-4b35-d858-13cba4804f2d"
      },
      "outputs": [
        {
          "output_type": "stream",
          "name": "stdout",
          "text": [
            "Hello World!!\n",
            "Time Complexity is of order =  1\n"
          ]
        }
      ],
      "source": [
        "# 1 CONSTANT TIME COMPLEXITY BY STEP COUNT\n",
        "stepcount = 0\n",
        "print(\"Hello World!!\")\n",
        "stepcount = stepcount+1\n",
        "print(\"Time Complexity is of order = \",stepcount)"
      ]
    },
    {
      "cell_type": "code",
      "source": [
        "# 2 LINEAR TIME COMPLEXITY BY STEP COUNT\n",
        "stepcount = 0\n",
        "n = 10\n",
        "for i in range(1, n + 1):\n",
        "  print(\"Hello World !!!\")\n",
        "  stepcount = i\n",
        "print(\"Time Complexity is of order n = \",stepcount)"
      ],
      "metadata": {
        "colab": {
          "base_uri": "https://localhost:8080/"
        },
        "id": "UYjk7fY3Z14E",
        "outputId": "b63d1913-0d59-4066-84d9-77084db0a39a"
      },
      "execution_count": 2,
      "outputs": [
        {
          "output_type": "stream",
          "name": "stdout",
          "text": [
            "Hello World !!!\n",
            "Hello World !!!\n",
            "Hello World !!!\n",
            "Hello World !!!\n",
            "Hello World !!!\n",
            "Hello World !!!\n",
            "Hello World !!!\n",
            "Hello World !!!\n",
            "Hello World !!!\n",
            "Hello World !!!\n",
            "Time Complexity is of order n =  10\n"
          ]
        }
      ]
    },
    {
      "cell_type": "code",
      "source": [
        "# 3 LOGARITHMIC COMPLEXITY\n",
        "import time\n",
        "start=time.time()\n",
        "n = 8\n",
        "# for (i = 1; i <= n; i=i*2) {\n",
        "for i in range(1,9,+2):\n",
        "  print(\"Hello World!!\")\n",
        "end=time.time()\n",
        "print(\"Time Complexity is of the order log2(n) and time taken = \",(end-start))"
      ],
      "metadata": {
        "colab": {
          "base_uri": "https://localhost:8080/"
        },
        "id": "h6sOCuqnaAIq",
        "outputId": "061b6e7c-3c87-4d5d-9175-a8e163f9929f"
      },
      "execution_count": 3,
      "outputs": [
        {
          "output_type": "stream",
          "name": "stdout",
          "text": [
            "Hello World!!\n",
            "Hello World!!\n",
            "Hello World!!\n",
            "Hello World!!\n",
            "Time Complexity is of the order log2(n) and time taken =  0.0002696514129638672\n"
          ]
        }
      ]
    },
    {
      "cell_type": "code",
      "source": [
        "# 4 LOGARITHMIC COMPLEXITY\n",
        "start = time.time()\n",
        "n = 50\n",
        "i = 2\n",
        "for j in range(2,n+1):\n",
        "  if(i >= n):\n",
        "    break\n",
        "  print(\"Hello World !!!\")\n",
        "  i *= i\n",
        "end = time.time()\n",
        "print(\"Time Complexity is of the order log(log(n)) and time taken = \",(end-start))"
      ],
      "metadata": {
        "colab": {
          "base_uri": "https://localhost:8080/"
        },
        "id": "kqaDDTk9bim9",
        "outputId": "b479f516-b490-4bd5-a200-1dc63863b909"
      },
      "execution_count": 4,
      "outputs": [
        {
          "output_type": "stream",
          "name": "stdout",
          "text": [
            "Hello World !!!\n",
            "Hello World !!!\n",
            "Hello World !!!\n",
            "Time Complexity is of the order log(log(n)) and time taken =  0.0072252750396728516\n"
          ]
        }
      ]
    },
    {
      "cell_type": "code",
      "source": [
        "# 5 Time Complexity for Sum Function Calling\n",
        "import time\n",
        "def sum_list(list): # 1 - t1\n",
        "  start = time.time()\n",
        "  total = 0 # 2 - t2\n",
        "  for num in list: # length of the list say n each step takes time t\n",
        "    total += num # 3 - t3\n",
        "  end = time.time()\n",
        "  return total ,1000*(end-start) # 4 - t4\n",
        "list=[1, 2, 3, 4, 5, 6, 7, 8, 9, 10, 11, 12, 13, 14, 15, 16,17,18,19,20]\n",
        "print(\"(sum, time taken(t1+t2+t*n+t3*n+t4)) =\",sum_list(list))"
      ],
      "metadata": {
        "colab": {
          "base_uri": "https://localhost:8080/"
        },
        "id": "KngcIW9udUvW",
        "outputId": "df2c62e1-87a8-4e31-faac-95399ed18697"
      },
      "execution_count": 5,
      "outputs": [
        {
          "output_type": "stream",
          "name": "stdout",
          "text": [
            "(sum, time taken(t1+t2+t*n+t3*n+t4)) = (210, 0.002384185791015625)\n"
          ]
        }
      ]
    },
    {
      "cell_type": "code",
      "source": [
        "# 6 Time Complexity for Product Function Calling\n",
        "import time\n",
        "def product_list(list): # 1 - t1\n",
        "  start = time.time()\n",
        "  total = 1 # 2 - t2\n",
        "  for num in list: # length of the list say n each step takes time t\n",
        "    total *= num # 3 - t3\n",
        "  end = time.time()\n",
        "  return total ,1000*(end-start) # 4 - t4\n",
        "list=[1, 2, 3, 4, 5]\n",
        "print(\"(product, time taken(t1+t2+t*n+t3*n+t4)) =\",product_list(list))"
      ],
      "metadata": {
        "colab": {
          "base_uri": "https://localhost:8080/"
        },
        "id": "L2zaUjM3ddQb",
        "outputId": "3e70677f-9de2-4e1c-8acd-19a9b7cff047"
      },
      "execution_count": 6,
      "outputs": [
        {
          "output_type": "stream",
          "name": "stdout",
          "text": [
            "(product, time taken(t1+t2+t*n+t3*n+t4)) = (120, 0.0021457672119140625)\n"
          ]
        }
      ]
    },
    {
      "cell_type": "code",
      "source": [
        "# 7 Time Complexity for two for loops\n",
        "import time\n",
        "start = time.time()\n",
        "my_list = [1, 2, 3, 4, 5] # t1\n",
        "for i in range(len(my_list)): # t2\n",
        "  for j in range(len(my_list)): # t3\n",
        "    print(my_list[i], my_list[j]) # n * m * t4\n",
        "end=time.time()\n",
        "print(\"time taken = \",1000*(end-start))"
      ],
      "metadata": {
        "colab": {
          "base_uri": "https://localhost:8080/"
        },
        "id": "hiR0WmE7dl6j",
        "outputId": "2402836d-ca06-446b-b76e-1ff22e84632a"
      },
      "execution_count": 7,
      "outputs": [
        {
          "output_type": "stream",
          "name": "stdout",
          "text": [
            "1 1\n",
            "1 2\n",
            "1 3\n",
            "1 4\n",
            "1 5\n",
            "2 1\n",
            "2 2\n",
            "2 3\n",
            "2 4\n",
            "2 5\n",
            "3 1\n",
            "3 2\n",
            "3 3\n",
            "3 4\n",
            "3 5\n",
            "4 1\n",
            "4 2\n",
            "4 3\n",
            "4 4\n",
            "4 5\n",
            "5 1\n",
            "5 2\n",
            "5 3\n",
            "5 4\n",
            "5 5\n",
            "time taken =  21.745681762695312\n"
          ]
        }
      ]
    },
    {
      "cell_type": "code",
      "source": [
        "# 8. Find the Sum of 2 numbers on the above machine\n",
        "start=time.time()\n",
        "def sum(a,b):\n",
        "  return a+b\n",
        "# function call\n",
        "a = 10\n",
        "b = 12\n",
        "print(sum(a,b))\n",
        "end= time.time()\n",
        "print(\"time taken = \",1000*(end-start))"
      ],
      "metadata": {
        "colab": {
          "base_uri": "https://localhost:8080/"
        },
        "id": "byoF1iOmdqiA",
        "outputId": "a9dd29fe-513f-4a35-b100-58795abfc1d3"
      },
      "execution_count": 8,
      "outputs": [
        {
          "output_type": "stream",
          "name": "stdout",
          "text": [
            "22\n",
            "time taken =  1.5954971313476562\n"
          ]
        }
      ]
    },
    {
      "cell_type": "code",
      "source": [],
      "metadata": {
        "id": "p-t5exquduDH"
      },
      "execution_count": null,
      "outputs": []
    }
  ]
}