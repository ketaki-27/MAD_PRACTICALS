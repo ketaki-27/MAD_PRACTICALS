{
  "nbformat": 4,
  "nbformat_minor": 0,
  "metadata": {
    "colab": {
      "provenance": []
    },
    "kernelspec": {
      "name": "python3",
      "display_name": "Python 3"
    },
    "language_info": {
      "name": "python"
    }
  },
  "cells": [
    {
      "cell_type": "code",
      "execution_count": 1,
      "metadata": {
        "colab": {
          "base_uri": "https://localhost:8080/"
        },
        "id": "drHzGsLogTTD",
        "outputId": "a83104e8-dc9d-415e-f47c-0a3b663c1d0e"
      },
      "outputs": [
        {
          "output_type": "stream",
          "name": "stdout",
          "text": [
            "Collecting binarytree\n",
            "  Downloading binarytree-6.5.1-py3-none-any.whl (18 kB)\n",
            "Requirement already satisfied: graphviz in /usr/local/lib/python3.10/dist-packages (from binarytree) (0.20.3)\n",
            "Requirement already satisfied: setuptools>=60.8.2 in /usr/local/lib/python3.10/dist-packages (from binarytree) (67.7.2)\n",
            "Collecting setuptools-scm[toml]>=5.0.1 (from binarytree)\n",
            "  Downloading setuptools_scm-8.1.0-py3-none-any.whl (43 kB)\n",
            "\u001b[2K     \u001b[90m━━━━━━━━━━━━━━━━━━━━━━━━━━━━━━━━━━━━━━━━\u001b[0m \u001b[32m43.7/43.7 kB\u001b[0m \u001b[31m1.9 MB/s\u001b[0m eta \u001b[36m0:00:00\u001b[0m\n",
            "\u001b[?25hRequirement already satisfied: packaging>=20 in /usr/local/lib/python3.10/dist-packages (from setuptools-scm[toml]>=5.0.1->binarytree) (24.1)\n",
            "Requirement already satisfied: tomli>=1 in /usr/local/lib/python3.10/dist-packages (from setuptools-scm[toml]>=5.0.1->binarytree) (2.0.1)\n",
            "Installing collected packages: setuptools-scm, binarytree\n",
            "Successfully installed binarytree-6.5.1 setuptools-scm-8.1.0\n"
          ]
        }
      ],
      "source": [
        "# 1. Install binarytree package\n",
        "!pip install binarytree"
      ]
    },
    {
      "cell_type": "code",
      "source": [
        "# 2. Creating a Node\n",
        "from binarytree import Node\n",
        "root = Node(3)\n",
        "root.left = Node(6)\n",
        "root.right = Node(8)\n",
        "print(\"The binary tree created is: \", root)"
      ],
      "metadata": {
        "colab": {
          "base_uri": "https://localhost:8080/"
        },
        "id": "CmgkPsnThq0A",
        "outputId": "2c123c5e-0576-4899-beb5-c197e2dddeb1"
      },
      "execution_count": 2,
      "outputs": [
        {
          "output_type": "stream",
          "name": "stdout",
          "text": [
            "The binary tree created is:  \n",
            "  3\n",
            " / \\\n",
            "6   8\n",
            "\n"
          ]
        }
      ]
    },
    {
      "cell_type": "code",
      "source": [
        "# 3. ALTERNATE WAY OF CREATING NODES IN A BINARY TREE\n",
        "from binarytree import Node\n",
        "root = Node(1) #create a root node\n",
        "root.left = Node(2)  #create left child\n",
        "root.right = Node(3)  #create right child\n",
        "print(\"The binary tree created is: \", root)"
      ],
      "metadata": {
        "colab": {
          "base_uri": "https://localhost:8080/"
        },
        "id": "6gm6308UhvGC",
        "outputId": "5dc3a5ab-be35-40a1-a283-62bc65d40575"
      },
      "execution_count": 3,
      "outputs": [
        {
          "output_type": "stream",
          "name": "stdout",
          "text": [
            "The binary tree created is:  \n",
            "  1\n",
            " / \\\n",
            "2   3\n",
            "\n"
          ]
        }
      ]
    },
    {
      "cell_type": "code",
      "source": [
        "# 4. Getting binary tree\n",
        "# Getting list of nodes\n",
        "print('List of nodes in the order root,left,right :', list(root))\n",
        "# Getting inorder of nodes\n",
        "print('Inorder of nodes :', root.inorder)\n",
        "# Getting preorder of nodes\n",
        "print('Preorder of nodes :', root.preorder)\n",
        "# Getting inorder of nodes\n",
        "print('Postorder of nodes :', root.postorder)\n",
        "# Checking tree properties\n",
        "print('Size of tree :', root.size)\n",
        "print('Height of tree :', root.height)\n",
        "# Get all properties at once\n",
        "print('Properties of tree : \\n', root.properties)"
      ],
      "metadata": {
        "colab": {
          "base_uri": "https://localhost:8080/"
        },
        "id": "IbpQF-WSh_z4",
        "outputId": "90f9b123-5e28-462d-ab1b-dcac9ac91311"
      },
      "execution_count": 4,
      "outputs": [
        {
          "output_type": "stream",
          "name": "stdout",
          "text": [
            "List of nodes in the order root,left,right : [Node(1), Node(2), Node(3)]\n",
            "Inorder of nodes : [Node(2), Node(1), Node(3)]\n",
            "Preorder of nodes : [Node(1), Node(2), Node(3)]\n",
            "Postorder of nodes : [Node(2), Node(3), Node(1)]\n",
            "Size of tree : 3\n",
            "Height of tree : 1\n",
            "Properties of tree : \n",
            " {'height': 1, 'size': 3, 'is_max_heap': False, 'is_min_heap': True, 'is_perfect': True, 'is_strict': True, 'is_complete': True, 'leaf_count': 2, 'min_node_value': 1, 'max_node_value': 3, 'min_leaf_depth': 1, 'max_leaf_depth': 1, 'is_balanced': True, 'is_bst': False, 'is_symmetric': False}\n"
          ]
        }
      ]
    },
    {
      "cell_type": "code",
      "source": [
        "# 5. Creating/ building binary tree from given list\n",
        "from binarytree import build\n",
        "# List of nodes\n",
        "nodes =[3, 6, 8, 2, 11, 4, 13]\n",
        "# Building the binary tree\n",
        "binary_tree = build(nodes)\n",
        "print('Binary tree from list :\\n',binary_tree)\n",
        "# Getting list of nodes from binarytree\n",
        "print('\\nList from binary tree :', binary_tree.values)"
      ],
      "metadata": {
        "colab": {
          "base_uri": "https://localhost:8080/"
        },
        "id": "TOFn9qtGiFyo",
        "outputId": "62ff5e68-145a-4bc1-ab36-71aa7e5fc33a"
      },
      "execution_count": 5,
      "outputs": [
        {
          "output_type": "stream",
          "name": "stdout",
          "text": [
            "Binary tree from list :\n",
            " \n",
            "    ___3__\n",
            "   /      \\\n",
            "  6        8\n",
            " / \\      / \\\n",
            "2   11   4   13\n",
            "\n",
            "\n",
            "List from binary tree : [3, 6, 8, 2, 11, 4, 13]\n"
          ]
        }
      ]
    },
    {
      "cell_type": "code",
      "source": [
        "# 6A. Creating/ building binary tree from given list\n",
        "from binarytree import build\n",
        "# List of nodes\n",
        "nodes =['a', 'b', 'c', 'd', 'e', 'f', 'g']\n",
        "# Building the binary tree\n",
        "binary_tree = build(nodes)\n",
        "print('Binary tree from list :\\n',binary_tree)\n",
        "# Getting list of nodes from binarytree\n",
        "print('\\nList from binary tree :', binary_tree.values)"
      ],
      "metadata": {
        "colab": {
          "base_uri": "https://localhost:8080/"
        },
        "id": "c06bt1EVi6ai",
        "outputId": "a8f417bf-700b-40ac-80f7-5b5d8b1bffd8"
      },
      "execution_count": 6,
      "outputs": [
        {
          "output_type": "stream",
          "name": "stdout",
          "text": [
            "Binary tree from list :\n",
            " \n",
            "    __a__\n",
            "   /     \\\n",
            "  b       c\n",
            " / \\     / \\\n",
            "d   e   f   g\n",
            "\n",
            "\n",
            "List from binary tree : ['a', 'b', 'c', 'd', 'e', 'f', 'g']\n"
          ]
        }
      ]
    },
    {
      "cell_type": "code",
      "source": [
        "# 6B. ALTERNATE WAY OF BUILDING A TREE\n",
        "from binarytree import build\n",
        "values=[1,2,3,4,5,6,7]\n",
        "tree = build(values)\n",
        "print(tree)\n"
      ],
      "metadata": {
        "colab": {
          "base_uri": "https://localhost:8080/"
        },
        "id": "bDOrSGsgjDSy",
        "outputId": "6feacc4b-c5cc-4215-dea3-041488862a93"
      },
      "execution_count": 7,
      "outputs": [
        {
          "output_type": "stream",
          "name": "stdout",
          "text": [
            "\n",
            "    __1__\n",
            "   /     \\\n",
            "  2       3\n",
            " / \\     / \\\n",
            "4   5   6   7\n",
            "\n"
          ]
        }
      ]
    },
    {
      "cell_type": "code",
      "source": [
        "# 6C. ALTERNATE WAY OF BUILDING A TREE\n",
        "from binarytree import build\n",
        "values=['v1','v2','v3','v4','v5','v6','v7']\n",
        "tree = build(values)\n",
        "print(tree)"
      ],
      "metadata": {
        "colab": {
          "base_uri": "https://localhost:8080/"
        },
        "id": "Bksb0rcojM_8",
        "outputId": "aaf92766-726f-46a8-f31d-a7b619d460d0"
      },
      "execution_count": 8,
      "outputs": [
        {
          "output_type": "stream",
          "name": "stdout",
          "text": [
            "\n",
            "     ____v1___\n",
            "    /         \\\n",
            "  _v2         _v3\n",
            " /   \\       /   \\\n",
            "v4    v5    v6    v7\n",
            "\n"
          ]
        }
      ]
    },
    {
      "cell_type": "code",
      "source": [
        "# 7. Create a random binary tree of any height\n",
        "from binarytree import tree\n",
        "root = tree()\n",
        "print(\"Binary tree of any height :\")\n",
        "print(root)\n",
        "# Create a random binary tree of given height\n",
        "root2 = tree(height = 2)\n",
        "print(\"Binary tree of given height :\")\n",
        "print(root2)\n",
        "# Create a random perfect binary tree of given height\n",
        "root3 = tree(height = 2, is_perfect = True)\n",
        "print(\"Perfect binary tree of given height :\")\n",
        "print(root3)\n",
        "# Create a random perfect binary tree of given height\n",
        "root4 = tree(height = 3, is_perfect = True)\n",
        "print(\"Perfect binary tree of given height :\")\n",
        "print(root4)"
      ],
      "metadata": {
        "colab": {
          "base_uri": "https://localhost:8080/"
        },
        "id": "Gwcy_Z5tjTf0",
        "outputId": "25f987b6-9021-4abe-ceed-fbf534545765"
      },
      "execution_count": 9,
      "outputs": [
        {
          "output_type": "stream",
          "name": "stdout",
          "text": [
            "Binary tree of any height :\n",
            "\n",
            "       _____1____\n",
            "      /          \\\n",
            "  ___11__         14___\n",
            " /       \\       /     \\\n",
            "9         3     7      _13\n",
            " \\       /     /      /   \\\n",
            "  10    4     6      12    2\n",
            "\n",
            "Binary tree of given height :\n",
            "\n",
            "3__\n",
            "   \\\n",
            "    6\n",
            "   / \\\n",
            "  5   1\n",
            "\n",
            "Perfect binary tree of given height :\n",
            "\n",
            "    __6__\n",
            "   /     \\\n",
            "  1       0\n",
            " / \\     / \\\n",
            "5   4   3   2\n",
            "\n",
            "Perfect binary tree of given height :\n",
            "\n",
            "        ________3________\n",
            "       /                 \\\n",
            "    __8___             ___12__\n",
            "   /      \\           /       \\\n",
            "  1       _10       _0         4\n",
            " / \\     /   \\     /  \\       / \\\n",
            "5   6   11    7   14   13    9   2\n",
            "\n"
          ]
        }
      ]
    },
    {
      "cell_type": "markdown",
      "source": [
        "## **Binary Search Tree**"
      ],
      "metadata": {
        "id": "IVUYzZJ0j1YQ"
      }
    },
    {
      "cell_type": "code",
      "source": [
        "# 8. Create a random BST of any height\n",
        "from binarytree import bst\n",
        "root = bst()\n",
        "print(type(root))\n",
        "print('Node list',root.values)\n",
        "print('BST of any height : \\n', root)\n",
        "# Create a random BST of  given height\n",
        "root2 = bst(height = 2)\n",
        "print('Node list',root2.values)\n",
        "print('BST of given height : \\n', root2)\n",
        "# Create a random perfect BST of given height\n",
        "root3 = bst(height = 2, is_perfect = True)\n",
        "print('Node list',root3.values)\n",
        "print('Perfect BST of given height : \\n', root3)\n",
        "# Create a random perfect BST of given height\n",
        "root4 = bst(height = 3)\n",
        "print('Node list',root4.values)\n",
        "print('Perfect BST of given height : \\n', root4)\n",
        "# Create a random perfect BST of given height\n",
        "root5 = bst(height = 4, is_perfect=True)\n",
        "print('Node list',root5.values)\n",
        "print('Perfect BST of given height : \\n', root5)"
      ],
      "metadata": {
        "colab": {
          "base_uri": "https://localhost:8080/"
        },
        "id": "Na8AFrI_jbwu",
        "outputId": "820e381e-136f-4347-bc1f-76cd4f1ea571"
      },
      "execution_count": 10,
      "outputs": [
        {
          "output_type": "stream",
          "name": "stdout",
          "text": [
            "<class 'binarytree.Node'>\n",
            "Node list [8, 0, 11, None, 4, 9, 13, None, None, 1, 7, None, 10, None, 14]\n",
            "BST of any height : \n",
            " \n",
            "  ______8_____\n",
            " /            \\\n",
            "0__         ___11\n",
            "   \\       /     \\\n",
            "    4     9       13\n",
            "   / \\     \\        \\\n",
            "  1   7     10       14\n",
            "\n",
            "Node list [5, 2, None, None, 4]\n",
            "BST of given height : \n",
            " \n",
            "  __5\n",
            " /\n",
            "2\n",
            " \\\n",
            "  4\n",
            "\n",
            "Node list [3, 1, 5, 0, 2, 4, 6]\n",
            "Perfect BST of given height : \n",
            " \n",
            "    __3__\n",
            "   /     \\\n",
            "  1       5\n",
            " / \\     / \\\n",
            "0   2   4   6\n",
            "\n",
            "Node list [0, None, 8, None, None, 6, 14, None, None, None, None, 3, 7, 13]\n",
            "Perfect BST of given height : \n",
            " \n",
            "0______\n",
            "       \\\n",
            "      __8___\n",
            "     /      \\\n",
            "    6       _14\n",
            "   / \\     /\n",
            "  3   7   13\n",
            "\n",
            "Node list [15, 7, 23, 3, 11, 19, 27, 1, 5, 9, 13, 17, 21, 25, 29, 0, 2, 4, 6, 8, 10, 12, 14, 16, 18, 20, 22, 24, 26, 28, 30]\n",
            "Perfect BST of given height : \n",
            " \n",
            "                ___________________15_____________________\n",
            "               /                                          \\\n",
            "        ______7_______                           __________23_________\n",
            "       /              \\                         /                     \\\n",
            "    __3__           ___11___               ____19___               ____27___\n",
            "   /     \\         /        \\             /         \\             /         \\\n",
            "  1       5       9         _13         _17         _21         _25         _29\n",
            " / \\     / \\     / \\       /   \\       /   \\       /   \\       /   \\       /   \\\n",
            "0   2   4   6   8   10    12    14    16    18    20    22    24    26    28    30\n",
            "\n"
          ]
        }
      ]
    },
    {
      "cell_type": "markdown",
      "source": [
        "\n",
        "## **Searching in BST**\n",
        "\n"
      ],
      "metadata": {
        "id": "-bctSgBOkCAJ"
      }
    },
    {
      "cell_type": "code",
      "source": [
        "# 9. Searching an element \"key\" in the created random BST of any height\n",
        "from binarytree import bst\n",
        "# Create a random BST of  given height which may be perfect or non perfect\n",
        "root6 = bst(height = 3, is_perfect=True)\n",
        "print('Node list',root6.values)\n",
        "print('BST of given height : \\n', root6)\n",
        "try:\n",
        "  print('value is found at posiiton =', root6.values.index(8))\n",
        "except ValueError:\n",
        "  print(\"value not found\")"
      ],
      "metadata": {
        "colab": {
          "base_uri": "https://localhost:8080/"
        },
        "id": "j1pAffufjqGy",
        "outputId": "2226344a-06ce-4227-bf20-a7259a95b340"
      },
      "execution_count": 11,
      "outputs": [
        {
          "output_type": "stream",
          "name": "stdout",
          "text": [
            "Node list [7, 3, 11, 1, 5, 9, 13, 0, 2, 4, 6, 8, 10, 12, 14]\n",
            "BST of given height : \n",
            " \n",
            "        ______7_______\n",
            "       /              \\\n",
            "    __3__           ___11___\n",
            "   /     \\         /        \\\n",
            "  1       5       9         _13\n",
            " / \\     / \\     / \\       /   \\\n",
            "0   2   4   6   8   10    12    14\n",
            "\n",
            "value is found at posiiton = 11\n"
          ]
        }
      ]
    },
    {
      "cell_type": "markdown",
      "source": [
        "## **Insertion in BST**"
      ],
      "metadata": {
        "id": "UlVfSUUGkbok"
      }
    },
    {
      "cell_type": "code",
      "source": [
        "# 10. Inserting an element in a random BST (perfect or non perfect) of given height\n",
        "# Function to inser the node in BST\n",
        "def insert_bst(root, val):\n",
        "  if root is None:\n",
        "    return Node(val)\n",
        "  if val < root.value:\n",
        "    root.left = insert_bst(root.left, val)\n",
        "  else:\n",
        "    root.right = insert_bst(root.right, val)\n",
        "  return root\n",
        "# Create a perfect BST of given height using bst() function\n",
        "root = bst(height=3,is_perfect=True)\n",
        "print('BST before insertion :',root)\n",
        "# Insert values to the left into the BST\n",
        "insert_values1 = [2, 1, 3, 4]\n",
        "for value in insert_values1:\n",
        "  root = insert_bst(root, value)\n",
        "print(\"BST after inserting values to the left:\")\n",
        "print(root)\n",
        "# Insert values to the right into the BST\n",
        "insert_values2 = [28, 32, 44, 75]\n",
        "for value in insert_values2:\n",
        "  root = insert_bst(root, value)\n",
        "print(\"BST after inserting values to the right:\")\n",
        "print(root)"
      ],
      "metadata": {
        "colab": {
          "base_uri": "https://localhost:8080/"
        },
        "id": "0Y2afN7PkYss",
        "outputId": "880e6c8c-ae60-4021-b1d5-4fd97794887c"
      },
      "execution_count": 12,
      "outputs": [
        {
          "output_type": "stream",
          "name": "stdout",
          "text": [
            "BST before insertion : \n",
            "        ______7_______\n",
            "       /              \\\n",
            "    __3__           ___11___\n",
            "   /     \\         /        \\\n",
            "  1       5       9         _13\n",
            " / \\     / \\     / \\       /   \\\n",
            "0   2   4   6   8   10    12    14\n",
            "\n",
            "BST after inserting values to the left:\n",
            "\n",
            "            __________7_______\n",
            "           /                  \\\n",
            "    ______3______           ___11___\n",
            "   /             \\         /        \\\n",
            "  1__           __5       9         _13\n",
            " /   \\         /   \\     / \\       /   \\\n",
            "0     2       4     6   8   10    12    14\n",
            "     / \\     / \\\n",
            "    1   2   3   4\n",
            "\n",
            "BST after inserting values to the right:\n",
            "\n",
            "            __________7_______\n",
            "           /                  \\\n",
            "    ______3______           ___11___\n",
            "   /             \\         /        \\\n",
            "  1__           __5       9         _13\n",
            " /   \\         /   \\     / \\       /   \\\n",
            "0     2       4     6   8   10    12    14\n",
            "     / \\     / \\                          \\\n",
            "    1   2   3   4                          28\n",
            "                                             \\\n",
            "                                              32\n",
            "                                                \\\n",
            "                                                 44\n",
            "                                                   \\\n",
            "                                                    75\n",
            "\n"
          ]
        }
      ]
    },
    {
      "cell_type": "code",
      "source": [
        "# 11. Take an array and insert the node one by one to generate the BST and then delete the given node from a BST\n",
        "from binarytree import Node\n",
        "# Function to insert the node into the BST\n",
        "def insert_node(root, value):\n",
        "  if root is None:\n",
        "    return Node(value)\n",
        "  if value < root.value:\n",
        "    root.left = insert_node(root.left, value)\n",
        "  else:\n",
        "    root.right = insert_node(root.right, value)\n",
        "  return root\n",
        "# Take the array of elelements\n",
        "values = [15,5,16,3,12,20,10,13,18,23,6,7]\n",
        "bst = None\n",
        "print('BST original tree before deletion')\n",
        "for value in values:\n",
        "  bst = insert_node(bst, value)\n",
        "print(values)\n",
        "print(bst)\n",
        "# Function to update the tree after deleting the node\n",
        "def delete_item_return_tree(array_new,value,i):\n",
        "  array_new = [x for x in array_new if x != value]\n",
        "  print(array_new)\n",
        "  bst_new = None\n",
        "  for value in array_new:\n",
        "    bst_new = insert_node(bst_new,value)\n",
        "  print(bst_new)\n",
        "  print(i)\n",
        "  return array_new\n",
        "# deleting the item 1 from the array and updating the BST\n",
        "node1 = 16\n",
        "print('BST after deleting node1 = ',node1)\n",
        "# values = delete_item_return_tree(values,node1,1)\n",
        "# deleting the item 2 from the array and updating the BST\n",
        "node2 = 5\n",
        "print('BST after deleting node2 = ',node2)\n",
        "values = delete_item_return_tree(values,node2,2)\n",
        "#print(values)"
      ],
      "metadata": {
        "colab": {
          "base_uri": "https://localhost:8080/"
        },
        "id": "T63rcKB2kltM",
        "outputId": "5ec8dd1e-cf50-43ee-d95b-0de1c1c40295"
      },
      "execution_count": 13,
      "outputs": [
        {
          "output_type": "stream",
          "name": "stdout",
          "text": [
            "BST original tree before deletion\n",
            "[15, 5, 16, 3, 12, 20, 10, 13, 18, 23, 6, 7]\n",
            "\n",
            "    _____________15\n",
            "   /               \\\n",
            "  5_______          16___\n",
            " /        \\              \\\n",
            "3         _12            _20\n",
            "         /   \\          /   \\\n",
            "      __10    13       18    23\n",
            "     /\n",
            "    6\n",
            "     \\\n",
            "      7\n",
            "\n",
            "BST after deleting node1 =  16\n",
            "BST after deleting node2 =  5\n",
            "[15, 16, 3, 12, 20, 10, 13, 18, 23, 6, 7]\n",
            "\n",
            "  _____________15\n",
            " /               \\\n",
            "3_______          16___\n",
            "        \\              \\\n",
            "        _12            _20\n",
            "       /   \\          /   \\\n",
            "    __10    13       18    23\n",
            "   /\n",
            "  6\n",
            "   \\\n",
            "    7\n",
            "\n",
            "2\n"
          ]
        }
      ]
    },
    {
      "cell_type": "code",
      "source": [],
      "metadata": {
        "id": "4hV7NLOPktsU"
      },
      "execution_count": null,
      "outputs": []
    }
  ]
}