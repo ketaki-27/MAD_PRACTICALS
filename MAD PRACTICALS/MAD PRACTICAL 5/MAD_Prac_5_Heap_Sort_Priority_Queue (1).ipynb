{
  "nbformat": 4,
  "nbformat_minor": 0,
  "metadata": {
    "colab": {
      "provenance": []
    },
    "kernelspec": {
      "name": "python3",
      "display_name": "Python 3"
    },
    "language_info": {
      "name": "python"
    }
  },
  "cells": [
    {
      "cell_type": "code",
      "execution_count": 1,
      "metadata": {
        "id": "-eUjwh8-7FWb"
      },
      "outputs": [],
      "source": [
        "# PRACTICAL 5.1 HEAP SORT\n",
        "def heapify(array, a, b):\n",
        "  max = b\n",
        "  l = 2 * b + 1\n",
        "  root = 2 * b + 2\n",
        "  if l < a and array[b] < array[l]:\n",
        "    max = l\n",
        "  if root < a and array[max] < array[root]:\n",
        "    max = root\n",
        "\t# Change root if it is not max\n",
        "  if max != b:\n",
        "    array[b], array[max] = array[max], array[b]\n",
        "    heapify(array, a, max)\n",
        "# sort an array of given size\n",
        "def Heap_Sort(array):\n",
        "\ta = len(array)\n",
        "\t# maxheap..\n",
        "\tfor b in range(a // 2 - 1, -1, -1):\n",
        "\t\theapify(array, a, b)\n",
        "\t# extract elements\n",
        "\tfor b in range(a-1, 0, -1):\n",
        "\t\tarray[b], array[0] = array[0], array[b] # swap\n",
        "\t\theapify(array, b, 0)"
      ]
    },
    {
      "cell_type": "code",
      "source": [
        "# Test Code for checking Heap Sort Algorihtm\n",
        "array = [ 7, 2, 5, 6, 3, 1, 8, 4]\n",
        "print(\"The original array is: \", array)\n",
        "Heap_Sort(array)\n",
        "a = len(array)\n",
        "print (\"Array after sorting is: \", array)"
      ],
      "metadata": {
        "colab": {
          "base_uri": "https://localhost:8080/"
        },
        "id": "jWpqHkt27UGz",
        "outputId": "4563f2d7-cf54-4014-87bd-0a856b5f1d60"
      },
      "execution_count": 2,
      "outputs": [
        {
          "output_type": "stream",
          "name": "stdout",
          "text": [
            "The original array is:  [7, 2, 5, 6, 3, 1, 8, 4]\n",
            "Array after sorting is:  [1, 2, 3, 4, 5, 6, 7, 8]\n"
          ]
        }
      ]
    },
    {
      "cell_type": "code",
      "source": [],
      "metadata": {
        "id": "6xmv2G1-7br5"
      },
      "execution_count": null,
      "outputs": []
    }
  ]
}